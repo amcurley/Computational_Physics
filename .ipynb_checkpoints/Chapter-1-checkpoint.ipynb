{
 "cells": [
  {
   "cell_type": "markdown",
   "id": "45715422-82b7-482c-874f-46921a1d9f98",
   "metadata": {},
   "source": [
    "# Chapter 1 Page 6"
   ]
  },
  {
   "cell_type": "code",
   "execution_count": 1,
   "id": "1a098998-599c-4133-833e-47fcfe2439b1",
   "metadata": {},
   "outputs": [],
   "source": [
    "R = 1.097e-2"
   ]
  },
  {
   "cell_type": "code",
   "execution_count": null,
   "id": "39ba9794-8740-47bf-b2e3-47f959a4d91b",
   "metadata": {},
   "outputs": [],
   "source": []
  }
 ],
 "metadata": {
  "kernelspec": {
   "display_name": "Python 3 (ipykernel)",
   "language": "python",
   "name": "python3"
  },
  "language_info": {
   "codemirror_mode": {
    "name": "ipython",
    "version": 3
   },
   "file_extension": ".py",
   "mimetype": "text/x-python",
   "name": "python",
   "nbconvert_exporter": "python",
   "pygments_lexer": "ipython3",
   "version": "3.8.10"
  }
 },
 "nbformat": 4,
 "nbformat_minor": 5
}
